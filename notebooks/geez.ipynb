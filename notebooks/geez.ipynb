{
  "nbformat": 4,
  "nbformat_minor": 0,
  "metadata": {
    "colab": {
      "provenance": [],
      "gpuType": "T4"
    },
    "kernelspec": {
      "name": "python3",
      "display_name": "Python 3"
    },
    "language_info": {
      "name": "python"
    },
    "accelerator": "GPU"
  },
  "cells": [
    {
      "source": [
        "!git clone https://github.com/van-godd/keysrepo.git\n"
      ],
      "cell_type": "code",
      "metadata": {
        "id": "FSy44EnG9xcv",
        "colab": {
          "base_uri": "https://localhost:8080/"
        },
        "outputId": "cb4744fc-fca2-4ae9-f1ec-e6a60b7aa7c6"
      },
      "execution_count": 10,
      "outputs": [
        {
          "output_type": "stream",
          "name": "stdout",
          "text": [
            "fatal: destination path 'keysrepo' already exists and is not an empty directory.\n"
          ]
        }
      ]
    },
    {
      "cell_type": "code",
      "execution_count": 11,
      "metadata": {
        "id": "lKN1CO0oE0wD"
      },
      "outputs": [],
      "source": [
        "!pip install -q --upgrade pip\n",
        "!pip install -q -U google-generativeai"
      ]
    },
    {
      "cell_type": "code",
      "source": [
        "import google.generativeai as genai\n",
        "import os\n",
        "from PIL import Image\n",
        "from google.colab import userdata\n",
        "from pathlib import Path"
      ],
      "metadata": {
        "id": "JPMc_AcaG6ba"
      },
      "execution_count": 12,
      "outputs": []
    },
    {
      "cell_type": "markdown",
      "source": [
        "# Klucz Api\n",
        "W panelu po lewej masz ikonke kluczyka. Musisz ją kliknąć i dodać zmienną środowiskową. Pole nazwy - GOOGLE_API_KEY, wartość weż z tej strony - https://aistudio.google.com/app/apikey"
      ],
      "metadata": {
        "id": "DG0dLDYkE-ej"
      }
    },
    {
      "cell_type": "code",
      "source": [
        "GOOGLE_API_KEY = userdata.get('GOOGLE_API_KEY')\n",
        "genai.configure(api_key=GOOGLE_API_KEY)\n"
      ],
      "metadata": {
        "id": "3EnEsOzqFPQZ"
      },
      "execution_count": 13,
      "outputs": []
    },
    {
      "cell_type": "code",
      "source": [
        "folder_path = Path('//content/keysrepo/data/images')\n",
        "\n",
        "images_list = [os.path.join(folder_path, f)  for f in folder_path.iterdir() if f.is_file()]\n",
        "\n",
        "extracted_keys = []"
      ],
      "metadata": {
        "id": "mcDjyf_rH0Cs"
      },
      "execution_count": 17,
      "outputs": []
    },
    {
      "cell_type": "code",
      "source": [
        "def get_results(images_list):\n",
        "    for img in images_list:\n",
        "      key = extract_key(img)\n",
        "      extracted_keys.append((key, img))\n"
      ],
      "metadata": {
        "id": "jmNUhj_lXwLH"
      },
      "execution_count": 18,
      "outputs": []
    },
    {
      "cell_type": "code",
      "source": [
        "def extract_key (source):\n",
        "     data= Image.open(source)\n",
        "     response = model.generate_content([\"Is there any text visible looking like activation key for games?If yes, return this key. Otherwise return 'error'. If there is more than  one, return list,\", data])\n",
        "     response.resolve()\n",
        "     print(response.text)\n",
        "     return response.text"
      ],
      "metadata": {
        "id": "azUT5UIVGx-8"
      },
      "execution_count": 20,
      "outputs": []
    },
    {
      "cell_type": "code",
      "source": [
        "extract_key (images_list[2])"
      ],
      "metadata": {
        "colab": {
          "base_uri": "https://localhost:8080/",
          "height": 311
        },
        "id": "ZaqBVgelESYG",
        "outputId": "625371e5-4917-434f-992b-1a15d4b418c0"
      },
      "execution_count": 21,
      "outputs": [
        {
          "output_type": "error",
          "ename": "NameError",
          "evalue": "name 'model' is not defined",
          "traceback": [
            "\u001b[0;31m---------------------------------------------------------------------------\u001b[0m",
            "\u001b[0;31mNameError\u001b[0m                                 Traceback (most recent call last)",
            "\u001b[0;32m<ipython-input-21-b8b635974379>\u001b[0m in \u001b[0;36m<cell line: 0>\u001b[0;34m()\u001b[0m\n\u001b[0;32m----> 1\u001b[0;31m \u001b[0mextract_key\u001b[0m \u001b[0;34m(\u001b[0m\u001b[0mimages_list\u001b[0m\u001b[0;34m[\u001b[0m\u001b[0;36m2\u001b[0m\u001b[0;34m]\u001b[0m\u001b[0;34m)\u001b[0m\u001b[0;34m\u001b[0m\u001b[0;34m\u001b[0m\u001b[0m\n\u001b[0m",
            "\u001b[0;32m<ipython-input-20-40629690ac60>\u001b[0m in \u001b[0;36mextract_key\u001b[0;34m(source)\u001b[0m\n\u001b[1;32m      1\u001b[0m \u001b[0;32mdef\u001b[0m \u001b[0mextract_key\u001b[0m \u001b[0;34m(\u001b[0m\u001b[0msource\u001b[0m\u001b[0;34m)\u001b[0m\u001b[0;34m:\u001b[0m\u001b[0;34m\u001b[0m\u001b[0;34m\u001b[0m\u001b[0m\n\u001b[1;32m      2\u001b[0m      \u001b[0mdata\u001b[0m\u001b[0;34m=\u001b[0m \u001b[0mImage\u001b[0m\u001b[0;34m.\u001b[0m\u001b[0mopen\u001b[0m\u001b[0;34m(\u001b[0m\u001b[0msource\u001b[0m\u001b[0;34m)\u001b[0m\u001b[0;34m\u001b[0m\u001b[0;34m\u001b[0m\u001b[0m\n\u001b[0;32m----> 3\u001b[0;31m      \u001b[0mresponse\u001b[0m \u001b[0;34m=\u001b[0m \u001b[0mmodel\u001b[0m\u001b[0;34m.\u001b[0m\u001b[0mgenerate_content\u001b[0m\u001b[0;34m(\u001b[0m\u001b[0;34m[\u001b[0m\u001b[0;34m\"Is there any text visible looking like activation key for games?If yes, return this key. Otherwise return 'error'. If there is more than  one, return list,\"\u001b[0m\u001b[0;34m,\u001b[0m \u001b[0mdata\u001b[0m\u001b[0;34m]\u001b[0m\u001b[0;34m)\u001b[0m\u001b[0;34m\u001b[0m\u001b[0;34m\u001b[0m\u001b[0m\n\u001b[0m\u001b[1;32m      4\u001b[0m      \u001b[0mresponse\u001b[0m\u001b[0;34m.\u001b[0m\u001b[0mresolve\u001b[0m\u001b[0;34m(\u001b[0m\u001b[0;34m)\u001b[0m\u001b[0;34m\u001b[0m\u001b[0;34m\u001b[0m\u001b[0m\n\u001b[1;32m      5\u001b[0m      \u001b[0mprint\u001b[0m\u001b[0;34m(\u001b[0m\u001b[0mresponse\u001b[0m\u001b[0;34m.\u001b[0m\u001b[0mtext\u001b[0m\u001b[0;34m)\u001b[0m\u001b[0;34m\u001b[0m\u001b[0;34m\u001b[0m\u001b[0m\n",
            "\u001b[0;31mNameError\u001b[0m: name 'model' is not defined"
          ]
        }
      ]
    },
    {
      "cell_type": "markdown",
      "source": [
        "w razie jakby mialo problemy - zrobic z tego wyrazenie regularne, poki co szkoda zachodu\n",
        "\n",
        "keys_examples =[]\n",
        "\n",
        "with open('/content/data/keys.txt', 'r') as file:\n",
        "  next(file)\n",
        "  for line in file:\n",
        "      line = line.split(',')[1].strip()\n",
        "      if line:\n",
        "        keys_examples.append(line)"
      ],
      "metadata": {
        "id": "URJ6zXMor1dL"
      }
    },
    {
      "cell_type": "code",
      "execution_count": 23,
      "metadata": {
        "id": "EtXxgVzmJZzE"
      },
      "outputs": [],
      "source": [
        "model = genai.GenerativeModel(\"gemini-1.5-flash\")"
      ]
    },
    {
      "cell_type": "markdown",
      "source": [],
      "metadata": {
        "id": "QBDOdyfOhvaG"
      }
    },
    {
      "cell_type": "code",
      "source": [
        "get_results(images_list)\n"
      ],
      "metadata": {
        "id": "JqUovcq1WPKD",
        "colab": {
          "base_uri": "https://localhost:8080/",
          "height": 128
        },
        "outputId": "4e96904e-7580-4c59-ee41-2712863c3208"
      },
      "execution_count": 24,
      "outputs": [
        {
          "output_type": "stream",
          "name": "stdout",
          "text": [
            "['A1B-1234-GH78', 'A12-11344-GH78', 'A1S2-F556-GH78', 'A1B-1234-GH76', 'A12-1234-EF178', 'A12-1334-GH76', 'A1B-E334-GH78', 'A1B2-1234-GH78', 'A122-1E34-GH78', 'A17B-1E36-G778']\n",
            "`RDR2-1234-5678-9ABC`\n",
            "BL57P-CFQ59-CYMG4\n",
            "['A1B2-CCL4-CSD4-F5FF-G17H8', 'A1B2-C3D4-E5FG-C556-GTH-GHIB', 'A1B2-C44-E5F-C58-G77EH8', 'A122-C34-E3D3-C56-GT7TGH8']\n",
            "GTPBH-HBD8D-DDTKD-MT8W6-\n"
          ]
        }
      ]
    },
    {
      "cell_type": "code",
      "source": [
        "with open('keys_results.txt', 'w') as f:\n",
        "  for key, img in extracted_keys:\n",
        "    try:\n",
        "      img = img.split('/')[-1]\n",
        "      f.write(f\"{key},{img}\\n\")\n",
        "    except:\n",
        "      f.write(f\"error,{img}\\n\")"
      ],
      "metadata": {
        "id": "mLDUwDMxndiK"
      },
      "execution_count": 25,
      "outputs": []
    },
    {
      "cell_type": "code",
      "source": [
        "#!pip freeze > requirements.txt"
      ],
      "metadata": {
        "id": "drxQUgN6JdXV"
      },
      "execution_count": null,
      "outputs": []
    }
  ]
}