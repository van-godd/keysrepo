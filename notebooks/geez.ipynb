{
  "nbformat": 4,
  "nbformat_minor": 0,
  "metadata": {
    "colab": {
      "provenance": [],
      "gpuType": "T4"
    },
    "kernelspec": {
      "name": "python3",
      "display_name": "Python 3"
    },
    "language_info": {
      "name": "python"
    },
    "accelerator": "GPU"
  },
  "cells": [
    {
      "source": [],
      "cell_type": "code",
      "metadata": {
        "id": "FSy44EnG9xcv"
      },
      "execution_count": null,
      "outputs": []
    },
    {
      "cell_type": "code",
      "execution_count": null,
      "metadata": {
        "id": "lKN1CO0oE0wD"
      },
      "outputs": [],
      "source": [
        "!pip install -q --upgrade pip\n",
        "!pip install -q -U google-generativeai"
      ]
    },
    {
      "cell_type": "code",
      "source": [
        "import google.generativeai as genai\n",
        "import os\n",
        "from PIL import Image\n",
        "from google.colab import userdata\n",
        "from pathlib import Path"
      ],
      "metadata": {
        "id": "JPMc_AcaG6ba"
      },
      "execution_count": null,
      "outputs": []
    },
    {
      "cell_type": "markdown",
      "source": [
        "# Klucz Api\n",
        "W panelu po lewej masz ikonke kluczyka. Musisz ją kliknąć i dodać zmienną środowiskową. Pole nazwy - GOOGLE_API_KEY, wartość weż z tej strony - https://aistudio.google.com/app/apikey"
      ],
      "metadata": {
        "id": "DG0dLDYkE-ej"
      }
    },
    {
      "cell_type": "code",
      "source": [
        "GOOGLE_API_KEY = userdata.get('GOOGLE_API_KEY')\n",
        "genai.configure(api_key=GOOGLE_API_KEY)\n"
      ],
      "metadata": {
        "id": "3EnEsOzqFPQZ"
      },
      "execution_count": null,
      "outputs": []
    },
    {
      "cell_type": "code",
      "source": [
        "x = os.getenv('GOOGLE_API_KEY')"
      ],
      "metadata": {
        "id": "0-_gd9jVjQqN"
      },
      "execution_count": null,
      "outputs": []
    },
    {
      "cell_type": "code",
      "source": [
        "folder_path = Path('/content/data/images')\n",
        "\n",
        "images_list = [os.path.join(folder_path, f)  for f in folder_path.iterdir() if f.is_file()]\n",
        "\n",
        "extracted_keys = []"
      ],
      "metadata": {
        "id": "mcDjyf_rH0Cs"
      },
      "execution_count": null,
      "outputs": []
    },
    {
      "cell_type": "code",
      "source": [
        "def get_results(images_list):\n",
        "    for img in images_list:\n",
        "      key = extract_key(img)\n",
        "      extracted_keys.append((key, img))\n"
      ],
      "metadata": {
        "id": "jmNUhj_lXwLH"
      },
      "execution_count": null,
      "outputs": []
    },
    {
      "cell_type": "code",
      "source": [
        "def extract_key (source):\n",
        "     data= Image.open(source)\n",
        "     response = model.generate_content([\"Is there any text visible looking like activation key for games?If yes, return this key. Otherwise return 'error'. If there is more than  one, return list,\", data])\n",
        "     response.resolve()\n",
        "     print(response.text)\n",
        "     return response.text"
      ],
      "metadata": {
        "id": "azUT5UIVGx-8"
      },
      "execution_count": null,
      "outputs": []
    },
    {
      "cell_type": "code",
      "source": [
        "extract_key (images_list[2])"
      ],
      "metadata": {
        "colab": {
          "base_uri": "https://localhost:8080/",
          "height": 92
        },
        "id": "ZaqBVgelESYG",
        "outputId": "7eca2438-1382-4196-fdb7-10e8d44b8aab"
      },
      "execution_count": null,
      "outputs": [
        {
          "output_type": "stream",
          "name": "stdout",
          "text": [
            "['A11B-1234-GH78', 'A12-11344-GH78', 'A1192-F556-GH78', 'A11B-1234-GH76', 'A112-1234-EF178', 'A112-1334-GH76', 'A11B-E334-GH78', 'A1B2-1234-GH78', 'A122-1E14-GH78', 'A112-1E36-GH78']\n"
          ]
        },
        {
          "output_type": "execute_result",
          "data": {
            "text/plain": [
              "\"['A11B-1234-GH78', 'A12-11344-GH78', 'A1192-F556-GH78', 'A11B-1234-GH76', 'A112-1234-EF178', 'A112-1334-GH76', 'A11B-E334-GH78', 'A1B2-1234-GH78', 'A122-1E14-GH78', 'A112-1E36-GH78']\""
            ],
            "application/vnd.google.colaboratory.intrinsic+json": {
              "type": "string"
            }
          },
          "metadata": {},
          "execution_count": 46
        }
      ]
    },
    {
      "cell_type": "markdown",
      "source": [
        "w razie jakby mialo problemy - zrobic z tego wyrazenie regularne, poki co szkoda zachodu\n",
        "\n",
        "keys_examples =[]\n",
        "\n",
        "with open('/content/data/keys.txt', 'r') as file:\n",
        "  next(file)\n",
        "  for line in file:\n",
        "      line = line.split(',')[1].strip()\n",
        "      if line:\n",
        "        keys_examples.append(line)"
      ],
      "metadata": {
        "id": "URJ6zXMor1dL"
      }
    },
    {
      "cell_type": "code",
      "execution_count": null,
      "metadata": {
        "id": "EtXxgVzmJZzE"
      },
      "outputs": [],
      "source": [
        "model = genai.GenerativeModel(\"gemini-1.5-flash\")"
      ]
    },
    {
      "cell_type": "code",
      "source": [],
      "metadata": {
        "id": "MM-4I4l_FcB0"
      },
      "execution_count": null,
      "outputs": []
    },
    {
      "cell_type": "code",
      "source": [
        "get_results(images_list)\n"
      ],
      "metadata": {
        "id": "JqUovcq1WPKD",
        "colab": {
          "base_uri": "https://localhost:8080/",
          "height": 128
        },
        "outputId": "95bec89a-005c-47dc-be18-ea52f074b5b4"
      },
      "execution_count": null,
      "outputs": [
        {
          "output_type": "stream",
          "name": "stdout",
          "text": [
            "BL57P-CFQ59-CYMG4\n",
            "['A1B2-CCL4-CSD4-F5FF-G17H8', 'A1B2-C3D4-E5FG-C556-GTH-GHIB', 'A1B2-C44-E5F-C50-G77EH8', 'A122-C34-E3D3-C56-GT7TGH8']\n",
            "GTPBH-HBD8D-DDTKD-MT8W6-\n",
            "['RDR2-1234-5678-9ABC']\n",
            "['A1B-1234-GH78', 'A12-11344-GH78', 'A1192-F556-GH78', 'A1B-1234-GH76', 'A12-1234-EF178', 'A112-1334-GH76', 'A11B-E334-GH78', 'A1B2-1234-GH78', 'A122-1E14-GH78', 'A17B-1E36-G778']\n"
          ]
        }
      ]
    },
    {
      "cell_type": "code",
      "source": [
        "with open('keys_results.txt', 'w') as f:\n",
        "  for key, img in extracted_keys:\n",
        "    try:\n",
        "      img = img.split('/')[-1]\n",
        "      f.write(f\"{key},{img}\\n\")\n",
        "    except:\n",
        "      f.write(f\"error,{img}\\n\")"
      ],
      "metadata": {
        "id": "mLDUwDMxndiK"
      },
      "execution_count": null,
      "outputs": []
    },
    {
      "cell_type": "code",
      "source": [
        "#!pip freeze > requirements.txt"
      ],
      "metadata": {
        "id": "drxQUgN6JdXV"
      },
      "execution_count": null,
      "outputs": []
    }
  ]
}