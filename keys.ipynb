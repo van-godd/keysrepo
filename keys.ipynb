{
  "nbformat": 4,
  "nbformat_minor": 0,
  "metadata": {
    "colab": {
      "provenance": [],
      "gpuType": "T4",
      "include_colab_link": true
    },
    "kernelspec": {
      "name": "python3",
      "display_name": "Python 3"
    },
    "language_info": {
      "name": "python"
    },
    "accelerator": "GPU"
  },
  "cells": [
    {
      "cell_type": "markdown",
      "metadata": {
        "id": "view-in-github",
        "colab_type": "text"
      },
      "source": [
        "<a href=\"https://colab.research.google.com/github/van-godd/keysrepo/blob/main/keys.ipynb\" target=\"_parent\"><img src=\"https://colab.research.google.com/assets/colab-badge.svg\" alt=\"Open In Colab\"/></a>"
      ]
    },
    {
      "source": [],
      "cell_type": "code",
      "metadata": {
        "id": "FSy44EnG9xcv"
      },
      "execution_count": 25,
      "outputs": []
    },
    {
      "cell_type": "code",
      "execution_count": 26,
      "metadata": {
        "id": "lKN1CO0oE0wD"
      },
      "outputs": [],
      "source": [
        "!pip install -q --upgrade pip\n",
        "!pip install -q -U google-generativeai"
      ]
    },
    {
      "cell_type": "code",
      "source": [
        "import google.generativeai as genai\n",
        "import os\n",
        "from PIL import Image\n",
        "from google.colab import userdata\n",
        "from pathlib import Path"
      ],
      "metadata": {
        "id": "JPMc_AcaG6ba"
      },
      "execution_count": 27,
      "outputs": []
    },
    {
      "cell_type": "markdown",
      "source": [
        "# Klucz Api\n",
        "W panelu po lewej masz ikonke kluczyka. Musisz ją kliknąć i dodać zmienną środowiskową. Pole nazwy - GOOGLE_API_KEY, wartość weż z tej strony - https://aistudio.google.com/app/apikey"
      ],
      "metadata": {
        "id": "DG0dLDYkE-ej"
      }
    },
    {
      "cell_type": "code",
      "source": [
        "GOOGLE_API_KEY = userdata.get('GOOGLE_API_KEY')\n",
        "genai.configure(api_key=GOOGLE_API_KEY)\n"
      ],
      "metadata": {
        "id": "3EnEsOzqFPQZ"
      },
      "execution_count": 28,
      "outputs": []
    },
    {
      "cell_type": "code",
      "source": [
        "x = os.getenv('GOOGLE_API_KEY')"
      ],
      "metadata": {
        "id": "0-_gd9jVjQqN"
      },
      "execution_count": 29,
      "outputs": []
    },
    {
      "cell_type": "code",
      "source": [
        "folder_path = Path('/content/data/images')\n",
        "\n",
        "images_list = [os.path.join(folder_path, f)  for f in folder_path.iterdir() if f.is_file()]\n",
        "\n",
        "extracted_keys = []"
      ],
      "metadata": {
        "id": "mcDjyf_rH0Cs"
      },
      "execution_count": 53,
      "outputs": []
    },
    {
      "cell_type": "code",
      "source": [
        "def get_results(images_list):\n",
        "    for img in images_list:\n",
        "      key = extract_key(img)\n",
        "      extracted_keys.append((key, img))\n"
      ],
      "metadata": {
        "id": "jmNUhj_lXwLH"
      },
      "execution_count": 31,
      "outputs": []
    },
    {
      "cell_type": "code",
      "source": [
        "def extract_key (source):\n",
        "     data= Image.open(source)\n",
        "     response = model.generate_content([\"Is there any text visible looking like activation key for games?If yes, return this key. Otherwise return 'error'. If there is more than  one, return list,\", data])\n",
        "     response.resolve()\n",
        "     print(response.text)\n",
        "     return response.text"
      ],
      "metadata": {
        "id": "azUT5UIVGx-8"
      },
      "execution_count": 45,
      "outputs": []
    },
    {
      "cell_type": "code",
      "source": [
        "extract_key (images_list[2])"
      ],
      "metadata": {
        "colab": {
          "base_uri": "https://localhost:8080/",
          "height": 92
        },
        "id": "ZaqBVgelESYG",
        "outputId": "7eca2438-1382-4196-fdb7-10e8d44b8aab"
      },
      "execution_count": 46,
      "outputs": [
        {
          "output_type": "stream",
          "name": "stdout",
          "text": [
            "['A11B-1234-GH78', 'A12-11344-GH78', 'A1192-F556-GH78', 'A11B-1234-GH76', 'A112-1234-EF178', 'A112-1334-GH76', 'A11B-E334-GH78', 'A1B2-1234-GH78', 'A122-1E14-GH78', 'A112-1E36-GH78']\n"
          ]
        },
        {
          "output_type": "execute_result",
          "data": {
            "text/plain": [
              "\"['A11B-1234-GH78', 'A12-11344-GH78', 'A1192-F556-GH78', 'A11B-1234-GH76', 'A112-1234-EF178', 'A112-1334-GH76', 'A11B-E334-GH78', 'A1B2-1234-GH78', 'A122-1E14-GH78', 'A112-1E36-GH78']\""
            ],
            "application/vnd.google.colaboratory.intrinsic+json": {
              "type": "string"
            }
          },
          "metadata": {},
          "execution_count": 46
        }
      ]
    },
    {
      "cell_type": "markdown",
      "source": [
        "w razie jakby mialo problemy - zrobic z tego wyrazenie regularne, poki co szkoda zachodu\n",
        "\n",
        "keys_examples =[]\n",
        "\n",
        "with open('/content/data/keys.txt', 'r') as file:\n",
        "  next(file)\n",
        "  for line in file:\n",
        "      line = line.split(',')[1].strip()\n",
        "      if line:\n",
        "        keys_examples.append(line)"
      ],
      "metadata": {
        "id": "URJ6zXMor1dL"
      }
    },
    {
      "cell_type": "code",
      "execution_count": 34,
      "metadata": {
        "id": "EtXxgVzmJZzE"
      },
      "outputs": [],
      "source": [
        "model = genai.GenerativeModel(\"gemini-1.5-flash\")"
      ]
    },
    {
      "cell_type": "code",
      "source": [],
      "metadata": {
        "id": "MM-4I4l_FcB0"
      },
      "execution_count": null,
      "outputs": []
    },
    {
      "cell_type": "code",
      "source": [
        "get_results(images_list)\n"
      ],
      "metadata": {
        "id": "JqUovcq1WPKD",
        "colab": {
          "base_uri": "https://localhost:8080/",
          "height": 128
        },
        "outputId": "95bec89a-005c-47dc-be18-ea52f074b5b4"
      },
      "execution_count": 54,
      "outputs": [
        {
          "output_type": "stream",
          "name": "stdout",
          "text": [
            "BL57P-CFQ59-CYMG4\n",
            "['A1B2-CCL4-CSD4-F5FF-G17H8', 'A1B2-C3D4-E5FG-C556-GTH-GHIB', 'A1B2-C44-E5F-C50-G77EH8', 'A122-C34-E3D3-C56-GT7TGH8']\n",
            "GTPBH-HBD8D-DDTKD-MT8W6-\n",
            "['RDR2-1234-5678-9ABC']\n",
            "['A1B-1234-GH78', 'A12-11344-GH78', 'A1192-F556-GH78', 'A1B-1234-GH76', 'A12-1234-EF178', 'A112-1334-GH76', 'A11B-E334-GH78', 'A1B2-1234-GH78', 'A122-1E14-GH78', 'A17B-1E36-G778']\n"
          ]
        }
      ]
    },
    {
      "cell_type": "code",
      "source": [
        "with open('keys_results.txt', 'w') as f:\n",
        "  for key, img in extracted_keys:\n",
        "    try:\n",
        "      img = img.split('/')[-1]\n",
        "      f.write(f\"{key},{img}\\n\")\n",
        "    except:\n",
        "      f.write(f\"error,{img}\\n\")"
      ],
      "metadata": {
        "id": "mLDUwDMxndiK"
      },
      "execution_count": 56,
      "outputs": []
    },
    {
      "cell_type": "code",
      "source": [],
      "metadata": {
        "id": "KEl5yK4-JeNb"
      },
      "execution_count": null,
      "outputs": []
    },
    {
      "cell_type": "code",
      "source": [
        "from google.colab import files\n",
        "files.download(\"/content/my_archive.zip\")"
      ],
      "metadata": {
        "colab": {
          "base_uri": "https://localhost:8080/",
          "height": 17
        },
        "id": "drxQUgN6JdXV",
        "outputId": "73b3f7b1-4498-4bd1-81ae-0f63311d9684"
      },
      "execution_count": 62,
      "outputs": [
        {
          "output_type": "display_data",
          "data": {
            "text/plain": [
              "<IPython.core.display.Javascript object>"
            ],
            "application/javascript": [
              "\n",
              "    async function download(id, filename, size) {\n",
              "      if (!google.colab.kernel.accessAllowed) {\n",
              "        return;\n",
              "      }\n",
              "      const div = document.createElement('div');\n",
              "      const label = document.createElement('label');\n",
              "      label.textContent = `Downloading \"${filename}\": `;\n",
              "      div.appendChild(label);\n",
              "      const progress = document.createElement('progress');\n",
              "      progress.max = size;\n",
              "      div.appendChild(progress);\n",
              "      document.body.appendChild(div);\n",
              "\n",
              "      const buffers = [];\n",
              "      let downloaded = 0;\n",
              "\n",
              "      const channel = await google.colab.kernel.comms.open(id);\n",
              "      // Send a message to notify the kernel that we're ready.\n",
              "      channel.send({})\n",
              "\n",
              "      for await (const message of channel.messages) {\n",
              "        // Send a message to notify the kernel that we're ready.\n",
              "        channel.send({})\n",
              "        if (message.buffers) {\n",
              "          for (const buffer of message.buffers) {\n",
              "            buffers.push(buffer);\n",
              "            downloaded += buffer.byteLength;\n",
              "            progress.value = downloaded;\n",
              "          }\n",
              "        }\n",
              "      }\n",
              "      const blob = new Blob(buffers, {type: 'application/binary'});\n",
              "      const a = document.createElement('a');\n",
              "      a.href = window.URL.createObjectURL(blob);\n",
              "      a.download = filename;\n",
              "      div.appendChild(a);\n",
              "      a.click();\n",
              "      div.remove();\n",
              "    }\n",
              "  "
            ]
          },
          "metadata": {}
        },
        {
          "output_type": "display_data",
          "data": {
            "text/plain": [
              "<IPython.core.display.Javascript object>"
            ],
            "application/javascript": [
              "download(\"download_dc75c8fc-2090-4943-8369-47017125d777\", \"my_archive.zip\", 10808883)"
            ]
          },
          "metadata": {}
        }
      ]
    },
    {
      "cell_type": "code",
      "source": [
        "!zip -r /content/my_archive.zip /content"
      ],
      "metadata": {
        "id": "1a89lx9UnbnX",
        "colab": {
          "base_uri": "https://localhost:8080/"
        },
        "outputId": "929080ac-3245-4f2e-80d0-d8385d476d68"
      },
      "execution_count": 61,
      "outputs": [
        {
          "output_type": "stream",
          "name": "stdout",
          "text": [
            "  adding: content/ (stored 0%)\n",
            "  adding: content/.config/ (stored 0%)\n",
            "  adding: content/.config/.last_update_check.json (deflated 22%)\n",
            "  adding: content/.config/logs/ (stored 0%)\n",
            "  adding: content/.config/logs/2025.03.28/ (stored 0%)\n",
            "  adding: content/.config/logs/2025.03.28/13.39.03.159995.log (deflated 58%)\n",
            "  adding: content/.config/logs/2025.03.28/13.39.12.655558.log (deflated 56%)\n",
            "  adding: content/.config/logs/2025.03.28/13.39.01.911920.log (deflated 86%)\n",
            "  adding: content/.config/logs/2025.03.28/13.39.11.863585.log (deflated 57%)\n",
            "  adding: content/.config/logs/2025.03.28/13.38.31.722003.log (deflated 92%)\n",
            "  adding: content/.config/logs/2025.03.28/13.38.52.718325.log (deflated 58%)\n",
            "  adding: content/.config/active_config (stored 0%)\n",
            "  adding: content/.config/.last_opt_in_prompt.yaml (stored 0%)\n",
            "  adding: content/.config/configurations/ (stored 0%)\n",
            "  adding: content/.config/configurations/config_default (deflated 15%)\n",
            "  adding: content/.config/config_sentinel (stored 0%)\n",
            "  adding: content/.config/default_configs.db (deflated 98%)\n",
            "  adding: content/.config/gce (stored 0%)\n",
            "  adding: content/.config/.last_survey_prompt.yaml (stored 0%)\n",
            "  adding: content/.config/hidden_gcloud_config_universe_descriptor_data_cache_configs.db (deflated 97%)\n",
            "  adding: content/keys_results.txt (deflated 43%)\n",
            "  adding: content/.ipynb_checkpoints/ (stored 0%)\n",
            "  adding: content/data/ (stored 0%)\n",
            "  adding: content/data/patterns_recognition.py (deflated 46%)\n",
            "  adding: content/data/keys.txt (deflated 24%)\n",
            "  adding: content/data/key_patterns.txt (deflated 76%)\n",
            "  adding: content/data/.ipynb_checkpoints/ (stored 0%)\n",
            "  adding: content/data/images/ (stored 0%)\n",
            "  adding: content/data/images/Product_Activation.png (deflated 6%)\n",
            "  adding: content/data/images/Untitled design.png (deflated 1%)\n",
            "  adding: content/data/images/images.jpg (deflated 0%)\n",
            "  adding: content/data/images/test.png (deflated 1%)\n",
            "  adding: content/data/images/.ipynb_checkpoints/ (stored 0%)\n",
            "  adding: content/data/images/Untitled design (1).png (deflated 1%)\n",
            "  adding: content/sample_data/ (stored 0%)\n",
            "  adding: content/sample_data/anscombe.json (deflated 83%)\n",
            "  adding: content/sample_data/README.md (deflated 39%)\n",
            "  adding: content/sample_data/mnist_test.csv (deflated 88%)\n",
            "  adding: content/sample_data/mnist_train_small.csv (deflated 88%)\n",
            "  adding: content/sample_data/california_housing_test.csv (deflated 76%)\n",
            "  adding: content/sample_data/california_housing_train.csv (deflated 79%)\n"
          ]
        }
      ]
    }
  ]
}